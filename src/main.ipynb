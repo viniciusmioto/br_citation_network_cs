{
 "cells": [
  {
   "cell_type": "code",
   "execution_count": 1,
   "metadata": {},
   "outputs": [],
   "source": [
    "import pandas as pd\n",
    "import requests\n",
    "import xml.etree.ElementTree as ET"
   ]
  },
  {
   "cell_type": "code",
   "execution_count": 2,
   "metadata": {},
   "outputs": [],
   "source": [
    "def get_citation_count(doi):\n",
    "    \"\"\"\n",
    "    Given a DOI, fetch the number of citations from the OpenCitations Index API.\n",
    "    Returns the citation count as an integer. If the DOI is not found, returns None.\n",
    "    \"\"\"\n",
    "    if not doi:\n",
    "        return None\n",
    "    \n",
    "    api_url = f\"https://opencitations.net/index/api/v2/citation-count/doi:{doi}\"\n",
    "    response = requests.get(api_url)\n",
    "    \n",
    "    if response.status_code == 200:\n",
    "        data = response.json()\n",
    "        if data and 'count' in data[0]:\n",
    "            return data[0]['count']\n",
    "    \n",
    "    return None\n",
    "\n",
    "def get_dblp_publications(pid):\n",
    "    \"\"\"\n",
    "    Given a DBLP PID (e.g. '01/2345'), fetch its XML page from DBLP\n",
    "    and parse out only four items per publication:\n",
    "      1) doi (without \"https://doi.org/\")\n",
    "      2) title\n",
    "      3) venue\n",
    "      4) citation count\n",
    "    Returns a list of dicts, one dict per publication.\n",
    "    \"\"\"\n",
    "    url = f\"https://dblp.org/pid/{pid}.xml\"\n",
    "    resp = requests.get(url)\n",
    "    \n",
    "    if resp.status_code != 200:\n",
    "        print(f\"Could not fetch data for PID={pid}, status code={resp.status_code}\")\n",
    "        return []\n",
    "    \n",
    "    root = ET.fromstring(resp.content)\n",
    "    publications = []\n",
    "    \n",
    "    for r_element in root.findall('r'):\n",
    "        if not len(r_element):\n",
    "            continue\n",
    "        \n",
    "        pub_node = r_element[0]\n",
    "        \n",
    "        title_node = pub_node.find('title')\n",
    "        title = title_node.text if title_node is not None else None\n",
    "        \n",
    "        journal_node = pub_node.find('journal')\n",
    "        booktitle_node = pub_node.find('booktitle')\n",
    "        venue = None\n",
    "        if journal_node is not None:\n",
    "            venue = journal_node.text\n",
    "        elif booktitle_node is not None:\n",
    "            venue = booktitle_node.text\n",
    "        \n",
    "        doi = None\n",
    "        ee_nodes = pub_node.findall('ee')\n",
    "        for ee in ee_nodes:\n",
    "            if ee.text and \"doi.org\" in ee.text:\n",
    "                doi = ee.text.replace(\"https://doi.org/\", \"\")\n",
    "                break\n",
    "        \n",
    "        citation_count = get_citation_count(doi) if doi else None\n",
    "        \n",
    "        publications.append({\n",
    "            'doi': doi,\n",
    "            'title': title,\n",
    "            'venue': venue,\n",
    "            'citation_count': citation_count\n",
    "        })\n",
    "    \n",
    "    return publications"
   ]
  },
  {
   "cell_type": "code",
   "execution_count": 3,
   "metadata": {},
   "outputs": [],
   "source": [
    "# URL of the CSV file\n",
    "url = \"https://raw.githubusercontent.com/aserg-ufmg/CSIndex/refs/heads/master/data/all-researchers.csv\"\n",
    "\n",
    "# Load the CSV into a DataFrame\n",
    "df = pd.read_csv(url, names=['researcher', 'institution', 'pid'])"
   ]
  },
  {
   "cell_type": "code",
   "execution_count": 4,
   "metadata": {},
   "outputs": [
    {
     "name": "stdout",
     "output_type": "stream",
     "text": [
      "                        researcher institution               pid\n",
      "0  Abel Guilhermino da Silva Filho        UFPE           90/4151\n",
      "1                   Adenauer Yamin       UFPEL  y/AdenauerCYamin\n",
      "2                   Adenilso Simao    ICMC/USP            24/261\n",
      "3               Adenilton da Silva        UFPE           03/8672\n",
      "4              Adiel Almeida Filho        UFPE           51/8647\n"
     ]
    }
   ],
   "source": [
    "# Print out the first 5 rows\n",
    "print(df.head())"
   ]
  },
  {
   "cell_type": "code",
   "execution_count": 5,
   "metadata": {},
   "outputs": [],
   "source": [
    "all_publications = get_dblp_publications('90/4151')"
   ]
  },
  {
   "cell_type": "code",
   "execution_count": 6,
   "metadata": {},
   "outputs": [],
   "source": [
    "publication_df = pd.DataFrame(all_publications)"
   ]
  },
  {
   "cell_type": "code",
   "execution_count": 7,
   "metadata": {},
   "outputs": [
    {
     "data": {
      "text/html": [
       "<div>\n",
       "<style scoped>\n",
       "    .dataframe tbody tr th:only-of-type {\n",
       "        vertical-align: middle;\n",
       "    }\n",
       "\n",
       "    .dataframe tbody tr th {\n",
       "        vertical-align: top;\n",
       "    }\n",
       "\n",
       "    .dataframe thead th {\n",
       "        text-align: right;\n",
       "    }\n",
       "</style>\n",
       "<table border=\"1\" class=\"dataframe\">\n",
       "  <thead>\n",
       "    <tr style=\"text-align: right;\">\n",
       "      <th></th>\n",
       "      <th>doi</th>\n",
       "      <th>title</th>\n",
       "      <th>venue</th>\n",
       "      <th>citation_count</th>\n",
       "    </tr>\n",
       "  </thead>\n",
       "  <tbody>\n",
       "    <tr>\n",
       "      <th>0</th>\n",
       "      <td>10.1007/978-3-031-47721-8_54</td>\n",
       "      <td>HyMO-RF: Automatic Hyperparameter Tuning for E...</td>\n",
       "      <td>IntelliSys (1)</td>\n",
       "      <td>0</td>\n",
       "    </tr>\n",
       "    <tr>\n",
       "      <th>1</th>\n",
       "      <td>None</td>\n",
       "      <td>Analysis of the Influence of Information Flow ...</td>\n",
       "      <td>SBRC</td>\n",
       "      <td>None</td>\n",
       "    </tr>\n",
       "    <tr>\n",
       "      <th>2</th>\n",
       "      <td>10.1016/j.compeleceng.2018.11.012</td>\n",
       "      <td>Electromyography-controlled car: A proof of co...</td>\n",
       "      <td>Comput. Electr. Eng.</td>\n",
       "      <td>19</td>\n",
       "    </tr>\n",
       "    <tr>\n",
       "      <th>3</th>\n",
       "      <td>10.1016/j.neucom.2018.10.063</td>\n",
       "      <td>Deep convolutional extreme learning machines: ...</td>\n",
       "      <td>Neurocomputing</td>\n",
       "      <td>25</td>\n",
       "    </tr>\n",
       "    <tr>\n",
       "      <th>4</th>\n",
       "      <td>10.1016/j.micpro.2018.09.008</td>\n",
       "      <td>Autonomous power management in mobile devices ...</td>\n",
       "      <td>Microprocess. Microsystems</td>\n",
       "      <td>8</td>\n",
       "    </tr>\n",
       "  </tbody>\n",
       "</table>\n",
       "</div>"
      ],
      "text/plain": [
       "                                 doi  \\\n",
       "0       10.1007/978-3-031-47721-8_54   \n",
       "1                               None   \n",
       "2  10.1016/j.compeleceng.2018.11.012   \n",
       "3       10.1016/j.neucom.2018.10.063   \n",
       "4       10.1016/j.micpro.2018.09.008   \n",
       "\n",
       "                                               title  \\\n",
       "0  HyMO-RF: Automatic Hyperparameter Tuning for E...   \n",
       "1  Analysis of the Influence of Information Flow ...   \n",
       "2  Electromyography-controlled car: A proof of co...   \n",
       "3  Deep convolutional extreme learning machines: ...   \n",
       "4  Autonomous power management in mobile devices ...   \n",
       "\n",
       "                        venue citation_count  \n",
       "0              IntelliSys (1)              0  \n",
       "1                        SBRC           None  \n",
       "2        Comput. Electr. Eng.             19  \n",
       "3              Neurocomputing             25  \n",
       "4  Microprocess. Microsystems              8  "
      ]
     },
     "execution_count": 7,
     "metadata": {},
     "output_type": "execute_result"
    }
   ],
   "source": [
    "publication_df.head()"
   ]
  },
  {
   "cell_type": "code",
   "execution_count": 9,
   "metadata": {},
   "outputs": [],
   "source": [
    "# # Example loop to retrieve & combine publications for all authors in df\n",
    "# all_publications = []\n",
    "# for idx, row in df.iterrows():\n",
    "#     pid = row[\"pid\"]\n",
    "#     pubs_for_author = get_dblp_publications(pid)\n",
    "#     all_publications.extend(pubs_for_author)\n",
    "\n",
    "# # Convert to DataFrame, if desired\n",
    "# publications_df = pd.DataFrame(all_publications)\n",
    "\n",
    "# # Print a small sample\n",
    "# print(publications_df.head())"
   ]
  }
 ],
 "metadata": {
  "kernelspec": {
   "display_name": ".venv",
   "language": "python",
   "name": "python3"
  },
  "language_info": {
   "codemirror_mode": {
    "name": "ipython",
    "version": 3
   },
   "file_extension": ".py",
   "mimetype": "text/x-python",
   "name": "python",
   "nbconvert_exporter": "python",
   "pygments_lexer": "ipython3",
   "version": "3.13.0"
  }
 },
 "nbformat": 4,
 "nbformat_minor": 2
}
